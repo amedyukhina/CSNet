{
 "cells": [
  {
   "cell_type": "code",
   "execution_count": null,
   "id": "122e7c2a-e302-49ef-8e69-ac2a7fe05854",
   "metadata": {},
   "outputs": [],
   "source": [
    "import os\n",
    "from skimage import io\n",
    "import pylab as plt\n",
    "import warnings\n",
    "from cs_sim.batch.batch_corrupt import batch_corrupt_image\n",
    "from cs_sim.batch.batch_synth import batch_generate_img_with_lines\n",
    "\n",
    "from cspoco.utils import get_paired_file_list"
   ]
  },
  {
   "cell_type": "code",
   "execution_count": null,
   "id": "baf819d1-a603-4aa1-b337-fd24721f3e55",
   "metadata": {},
   "outputs": [],
   "source": [
    "def plot_first_img(dir_img, dir_gt, panel_size=3):\n",
    "    fn_img, fn_label = get_paired_file_list(dir_img, dir_gt)\n",
    "\n",
    "    fig, ax = plt.subplots(1, 2, figsize=(2 * panel_size, panel_size))\n",
    "    for i, fn in enumerate([fn_img[0], fn_label[0]]):\n",
    "        plt.sca(ax[i])\n",
    "        img = io.imread(fn)\n",
    "        if len(img.shape) > 2:\n",
    "            img = img.max(0)\n",
    "        io.imshow(img)\n",
    "    plt.tight_layout()"
   ]
  },
  {
   "cell_type": "code",
   "execution_count": null,
   "id": "ad065904-761d-4ec9-afc7-4de48c334c1b",
   "metadata": {},
   "outputs": [],
   "source": [
    "name_gt = 'gt'\n",
    "name_img = 'img'\n",
    "\n",
    "subfolders = ['train', 'val', 'test']\n",
    "n_img = [400, 150, 10]\n",
    "\n",
    "dims = ['_2D', '_3D']\n",
    "imgshapes = [(512, 512), (64, 128, 128)]\n",
    "corruption_steps_2D=[\n",
    "    ('perlin_noise', {'size': 50, 'value': 0.1}),\n",
    "    ('poisson_noise', {'snr': 2}),\n",
    "    ('convolve', {'sigma': 5}),\n",
    "    ('gaussian_noise', {'snr': 10})\n",
    "]\n",
    "corruption_steps_3D=[\n",
    "    ('perlin_noise', {'size': 50, 'value': 0.1}),\n",
    "    ('poisson_noise', {'snr': 2}),\n",
    "    ('convolve', {'sigma': 2}),\n",
    "    ('gaussian_noise', {'snr': 50})\n",
    "]"
   ]
  },
  {
   "cell_type": "code",
   "execution_count": null,
   "id": "4f5803ee-c646-4095-9aa6-955b2d2d1889",
   "metadata": {
    "tags": []
   },
   "outputs": [],
   "source": [
    "for data_dir_base, instance in zip(['data/semantic', 'data/instance'],\n",
    "                                   [False, True]):\n",
    "    for dim, imgshape, corruption_steps in zip(dims, imgshapes, [corruption_steps_2D, corruption_steps_3D]):\n",
    "        \n",
    "        # generate data\n",
    "        data_dir = data_dir_base + dim\n",
    "        print(data_dir)\n",
    "        for sf, n in zip(subfolders, n_img):\n",
    "            print(sf, n)\n",
    "            dir_gt = os.path.join(data_dir, sf, name_gt)\n",
    "            dir_img = os.path.join(data_dir, sf, name_img)\n",
    "\n",
    "            os.makedirs(dir_gt, exist_ok=True)\n",
    "            os.makedirs(dir_img, exist_ok=True)\n",
    "            \n",
    "            with warnings.catch_warnings():\n",
    "                warnings.simplefilter(\"ignore\")\n",
    "\n",
    "                batch_generate_img_with_lines(n_img=n, n_jobs=20, dir_out=dir_gt,\n",
    "                                              imgshape=imgshape, n_lines=10, \n",
    "                                              instance=instance, thick=False, \n",
    "                                              maxval=255, n_points=1000)\n",
    "                batch_corrupt_image(dir_gt, dir_img, n_jobs=20,\n",
    "                                    corruption_steps=corruption_steps)\n",
    "        # display data\n",
    "        plot_first_img(dir_img, dir_gt, panel_size=6)"
   ]
  },
  {
   "cell_type": "code",
   "execution_count": null,
   "id": "c2f4b6a6-d145-4ab1-b8fe-c9ca267befb3",
   "metadata": {},
   "outputs": [],
   "source": []
  },
  {
   "cell_type": "code",
   "execution_count": null,
   "id": "a1a54199-6c5e-40c9-8148-6cacbc6f11c2",
   "metadata": {},
   "outputs": [],
   "source": []
  }
 ],
 "metadata": {
  "kernelspec": {
   "display_name": "Python [conda env:quamd]",
   "language": "python",
   "name": "conda-env-quamd-py"
  },
  "language_info": {
   "codemirror_mode": {
    "name": "ipython",
    "version": 3
   },
   "file_extension": ".py",
   "mimetype": "text/x-python",
   "name": "python",
   "nbconvert_exporter": "python",
   "pygments_lexer": "ipython3",
   "version": "3.9.0"
  }
 },
 "nbformat": 4,
 "nbformat_minor": 5
}
