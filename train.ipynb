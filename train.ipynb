{
 "cells": [
  {
   "cell_type": "code",
   "execution_count": null,
   "id": "dda9e3c8-533b-48cc-a774-e5bcd64823ab",
   "metadata": {},
   "outputs": [],
   "source": [
    "import os\n",
    "import datetime\n",
    "\n",
    "import torch\n",
    "from torch import optim\n",
    "from torch.utils.data import DataLoader\n",
    "\n",
    "from csnet.dataset import CS_Dataset\n",
    "from csnet.losses import WeightedCrossEntropyLoss, DiceLoss\n",
    "from csnet.model import CSNet3D"
   ]
  },
  {
   "cell_type": "code",
   "execution_count": null,
   "id": "de3f262d-ddfe-403c-9ebf-4b050d1951b1",
   "metadata": {},
   "outputs": [],
   "source": [
    "datetime.datetime.now().strftime(\"%Y-%m-%d-%H-%M-%S\")"
   ]
  },
  {
   "cell_type": "code",
   "execution_count": null,
   "id": "c7699da4-97a8-447a-b9da-4b16e300cb48",
   "metadata": {},
   "outputs": [],
   "source": [
    "dir_train_gt = 'data/train/gt'\n",
    "dir_train_img = 'data/train/img'\n",
    "dir_test_gt = 'data/test/gt'\n",
    "dir_test_img = 'data/test/img'\n",
    "\n",
    "batch_size = 2\n",
    "lr = 0.0001\n",
    "weight_decay = 0.0005\n",
    "wce_loss_weight = 0.6\n",
    "dice_loss_weight = 0.4\n",
    "\n",
    "snapshot = 2\n",
    "model_path = 'model'"
   ]
  },
  {
   "cell_type": "code",
   "execution_count": null,
   "id": "32ab4e0c-3cff-4277-b1aa-091c9e6d620a",
   "metadata": {},
   "outputs": [],
   "source": [
    "ds = CS_Dataset(dir_train_img, dir_train_gt)\n",
    "dl = DataLoader(ds, batch_size=batch_size, num_workers=batch_size, shuffle=True)\n",
    "net = CSNet3D(classes=2, channels=1).cuda()\n",
    "optimizer = optim.Adam(net.parameters(), lr=lr, weight_decay=weight_decay)\n",
    "\n",
    "wce_loss = WeightedCrossEntropyLoss().cuda()\n",
    "dice_loss = DiceLoss().cuda()\n",
    "\n",
    "model_name = datetime.datetime.now().strftime(\"%Y-%m-%d-%H-%M-%S\")\n",
    "os.makedirs(os.path.join(model_path, model_name))"
   ]
  },
  {
   "cell_type": "code",
   "execution_count": null,
   "id": "f6b0a320-9232-41ca-b9c5-8563b3d2a134",
   "metadata": {},
   "outputs": [],
   "source": [
    "def save_ckpt(net, epoch, model_path, model_name):\n",
    "    fn_out = os.path.join(model_path, model_name, rf\"{model_name}_{epoch}.pkl\")\n",
    "    torch.save(net, fn_out)\n",
    "    print(rf\"Saved model to: {fn_out}\")"
   ]
  },
  {
   "cell_type": "code",
   "execution_count": null,
   "id": "f09fef9f-08e3-46f5-9f9b-2f035d0d4eae",
   "metadata": {},
   "outputs": [],
   "source": [
    "for epoch in range(10):\n",
    "    print(epoch)\n",
    "    net.train()\n",
    "    for idx, batch in enumerate(dl):\n",
    "        image = batch[0].cuda()\n",
    "        label = batch[1].cuda()\n",
    "        optimizer.zero_grad()\n",
    "        pred = net(image)\n",
    "        loss = (wce_loss_weight * wce_loss(pred, label.squeeze(1)) \n",
    "                + dice_loss_weight * dice_loss(pred, label))\n",
    "        loss.backward()\n",
    "        optimizer.step()\n",
    "        \n",
    "    if (epoch + 1) % snapshot == 0:\n",
    "        save_ckpt(net, epoch + 1, model_path, model_name)"
   ]
  },
  {
   "cell_type": "code",
   "execution_count": null,
   "id": "23c2b864-c19d-47a3-88a9-d39646bae522",
   "metadata": {},
   "outputs": [],
   "source": []
  },
  {
   "cell_type": "code",
   "execution_count": null,
   "id": "b58291ab-8c77-46a2-8b57-2c76b78dc9fc",
   "metadata": {},
   "outputs": [],
   "source": []
  }
 ],
 "metadata": {
  "kernelspec": {
   "display_name": "Python [conda env:quamd]",
   "language": "python",
   "name": "conda-env-quamd-py"
  },
  "language_info": {
   "codemirror_mode": {
    "name": "ipython",
    "version": 3
   },
   "file_extension": ".py",
   "mimetype": "text/x-python",
   "name": "python",
   "nbconvert_exporter": "python",
   "pygments_lexer": "ipython3",
   "version": "3.9.0"
  }
 },
 "nbformat": 4,
 "nbformat_minor": 5
}
