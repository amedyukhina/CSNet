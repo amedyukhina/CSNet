{
 "cells": [
  {
   "cell_type": "code",
   "execution_count": null,
   "id": "dda9e3c8-533b-48cc-a774-e5bcd64823ab",
   "metadata": {},
   "outputs": [],
   "source": [
    "import os\n",
    "import numpy as np\n",
    "import argparse\n",
    "import wandb\n",
    "\n",
    "import torch\n",
    "from csnet.train import train"
   ]
  },
  {
   "cell_type": "code",
   "execution_count": null,
   "id": "c7699da4-97a8-447a-b9da-4b16e300cb48",
   "metadata": {},
   "outputs": [],
   "source": [
    "dir_train_gt = 'data/train/gt'\n",
    "dir_train_img = 'data/train/img'\n",
    "dir_val_gt = 'data/val/gt'\n",
    "dir_val_img = 'data/val/img'\n",
    "\n",
    "epochs = 20\n",
    "batch_size = 2\n",
    "lr = 0.0001\n",
    "weight_decay = 0.0005\n",
    "wce_loss_weight = 0.6\n",
    "dice_loss_weight = 0.4\n",
    "\n",
    "snapshot = 5\n",
    "val_step = 5\n",
    "model_path = 'model'\n",
    "\n",
    "factor = 0.1\n",
    "patience = 10\n",
    "\n",
    "log_progress = True\n",
    "wandb_project = 'CSNet Test'"
   ]
  },
  {
   "cell_type": "code",
   "execution_count": null,
   "id": "4f70906d-9505-433b-9759-2e07240e178e",
   "metadata": {},
   "outputs": [],
   "source": [
    "config = dict(\n",
    "    epochs=epochs,\n",
    "    batch_size=batch_size,\n",
    "    lr=lr,\n",
    "    weight_decay=weight_decay,\n",
    "    wce_loss_weight=wce_loss_weight,\n",
    "    dice_loss_weight=dice_loss_weight,\n",
    "    factor=factor,\n",
    "    patience=patience,\n",
    "    snapshot=snapshot,\n",
    "    val_step=val_step,\n",
    "    model_path=model_path\n",
    ")\n",
    "    \n",
    "config"
   ]
  },
  {
   "cell_type": "code",
   "execution_count": null,
   "id": "2e3fdfd3-e18f-4188-88c6-85d76cdac5a9",
   "metadata": {},
   "outputs": [],
   "source": [
    "if log_progress:\n",
    "    with open('/home/amedyukh/.wandb_api_key') as f:\n",
    "        key = f.read()\n",
    "    os.environ['WANDB_API_KEY'] = key\n",
    "else:\n",
    "    os.environ['WANDB_MODE'] = 'offline'\n",
    "\n",
    "wandb.init(project=wandb_project, config=config)\n",
    "config = argparse.Namespace(**config)"
   ]
  },
  {
   "cell_type": "code",
   "execution_count": null,
   "id": "32ab4e0c-3cff-4277-b1aa-091c9e6d620a",
   "metadata": {},
   "outputs": [],
   "source": [
    "train(dir_train_img, dir_train_gt, dir_val_img, dir_val_gt, config, log_progress)"
   ]
  },
  {
   "cell_type": "code",
   "execution_count": null,
   "id": "d5ae02bf-1ae8-40fd-95d4-e0789598d441",
   "metadata": {},
   "outputs": [],
   "source": [
    "wandb.finish()"
   ]
  }
 ],
 "metadata": {
  "kernelspec": {
   "display_name": "Python [conda env:quamd]",
   "language": "python",
   "name": "conda-env-quamd-py"
  },
  "language_info": {
   "codemirror_mode": {
    "name": "ipython",
    "version": 3
   },
   "file_extension": ".py",
   "mimetype": "text/x-python",
   "name": "python",
   "nbconvert_exporter": "python",
   "pygments_lexer": "ipython3",
   "version": "3.9.0"
  }
 },
 "nbformat": 4,
 "nbformat_minor": 5
}
