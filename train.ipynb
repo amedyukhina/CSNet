{
 "cells": [
  {
   "cell_type": "code",
   "execution_count": 1,
   "id": "68e6580f-b8bf-4e44-a0ac-1d553d9f6f98",
   "metadata": {},
   "outputs": [],
   "source": [
    "import argparse\n",
    "import json\n",
    "import os\n",
    "\n",
    "import numpy as np\n",
    "import wandb\n",
    "from monai.data import CacheDataset, DataLoader\n",
    "from monai.losses import DiceLoss\n",
    "from monai.metrics import DiceMetric\n",
    "from monai.networks.layers import Norm\n",
    "from monai.networks.nets import UNet\n",
    "\n",
    "from csnet.models.csnet import CSNet\n",
    "from csnet.models.csnet_orig import CSNetOrig\n",
    "from csnet.transforms.default import get_default_train_transforms\n",
    "from csnet.utils import get_data_dict, get_model_name\n",
    "from csnet.utils.train import train"
   ]
  },
  {
   "cell_type": "markdown",
   "id": "87e8dc7e-4478-44fb-a80d-6873ab65ead5",
   "metadata": {},
   "source": [
    "### Specify parametersCSNet"
   ]
  },
  {
   "cell_type": "code",
   "execution_count": 2,
   "id": "a2e2c24d-e712-4329-977e-9c54821d75fd",
   "metadata": {},
   "outputs": [],
   "source": [
    "data_dir = 'data/semantic_3D'\n",
    "train_dir = 'train'\n",
    "val_dir = 'val'\n",
    "model_path = 'model_test'\n",
    "\n",
    "wandb_project = 'CSNet Test'\n",
    "\n",
    "log_progress = True\n",
    "\n",
    "model = 'unet' # one of [\"unet\", \"csnet\", \"csnet_orig\"]\n",
    "\n",
    "model_channels = (16, 32, 64, 128)\n",
    "num_residual_units = 1"
   ]
  },
  {
   "cell_type": "code",
   "execution_count": 3,
   "id": "ab7604df-3bab-4a68-a0d8-bf9ae4cbf0a9",
   "metadata": {},
   "outputs": [
    {
     "data": {
      "text/plain": [
       "{'epochs': 5,\n",
       " 'batch_size': 2,\n",
       " 'lr': 0.0001,\n",
       " 'weight_decay': 0.0005,\n",
       " 'factor': 0.1,\n",
       " 'patience': 2,\n",
       " 'roi_size': (32, 64, 64),\n",
       " 'model_path': 'model_test',\n",
       " 'metric_name': 'Dice Metric',\n",
       " 'model': 'unet',\n",
       " 'n_channels': (16, 32, 64, 128),\n",
       " 'num_res_units': 1,\n",
       " 'log_progress': True,\n",
       " 'wandb_project': 'CSNet Test',\n",
       " 'data_dir': 'data/semantic_3D',\n",
       " 'train_dirname': 'train',\n",
       " 'val_dirname': 'val',\n",
       " 'img_dirname': 'img',\n",
       " 'gt_dirname': 'gt'}"
      ]
     },
     "execution_count": 3,
     "metadata": {},
     "output_type": "execute_result"
    }
   ],
   "source": [
    "config = dict(\n",
    "        epochs=5,\n",
    "        batch_size=2,\n",
    "        lr=0.0001,\n",
    "        weight_decay=0.0005,\n",
    "        factor=0.1,\n",
    "        patience=2,\n",
    "        roi_size=(32, 64, 64),\n",
    "        model_path=model_path,\n",
    "        metric_name='Dice Metric',\n",
    "        model=model,\n",
    "        n_channels=model_channels,\n",
    "        num_res_units=num_residual_units,\n",
    "        log_progress=log_progress,\n",
    "        wandb_project=wandb_project,\n",
    "        data_dir=data_dir,\n",
    "        train_dirname=train_dir,\n",
    "        val_dirname=val_dir,\n",
    "        img_dirname='img',\n",
    "        gt_dirname='gt'\n",
    "    )\n",
    "config"
   ]
  },
  {
   "cell_type": "markdown",
   "id": "fc14e090-0d9c-4147-bc66-e952cc65ffd9",
   "metadata": {},
   "source": [
    "### Initialize wandb project"
   ]
  },
  {
   "cell_type": "code",
   "execution_count": 4,
   "id": "d5efc04b-14cc-4eef-93fd-e3a10b7b5f4a",
   "metadata": {},
   "outputs": [
    {
     "name": "stderr",
     "output_type": "stream",
     "text": [
      "Failed to detect the name of this notebook, you can set it manually with the WANDB_NOTEBOOK_NAME environment variable to enable code saving.\n",
      "\u001b[34m\u001b[1mwandb\u001b[0m: Currently logged in as: \u001b[33mamedyukh\u001b[0m (use `wandb login --relogin` to force relogin)\n",
      "\u001b[34m\u001b[1mwandb\u001b[0m: wandb version 0.12.21 is available!  To upgrade, please run:\n",
      "\u001b[34m\u001b[1mwandb\u001b[0m:  $ pip install wandb --upgrade\n"
     ]
    },
    {
     "data": {
      "text/html": [
       "\n",
       "                    Syncing run <strong><a href=\"https://wandb.ai/amedyukh/CSNet%20Test/runs/1kd4lkjs\" target=\"_blank\">dry-bush-38</a></strong> to <a href=\"https://wandb.ai/amedyukh/CSNet%20Test\" target=\"_blank\">Weights & Biases</a> (<a href=\"https://docs.wandb.com/integrations/jupyter.html\" target=\"_blank\">docs</a>).<br/>\n",
       "\n",
       "                "
      ],
      "text/plain": [
       "<IPython.core.display.HTML object>"
      ]
     },
     "metadata": {},
     "output_type": "display_data"
    }
   ],
   "source": [
    "config = argparse.Namespace(**config)\n",
    "if config.log_progress:\n",
    "    with open('/home/amedyukh/.wandb_api_key') as f:\n",
    "        key = f.read()\n",
    "    os.environ['WANDB_API_KEY'] = key\n",
    "else:\n",
    "    os.environ['WANDB_MODE'] = 'offline'\n",
    "\n",
    "wandb.init(project=config.wandb_project, config=vars(config))\n",
    "\n",
    "# Update model path\n",
    "config.model_path = os.path.join(config.model_path, get_model_name(config.log_progress))\n",
    "\n",
    "# Save training parameters\n",
    "os.makedirs(config.model_path, exist_ok=True)\n",
    "with open(os.path.join(config.model_path, 'config.json'), 'w') as f:\n",
    "    json.dump(vars(config), f, indent=4)\n",
    "          \n"
   ]
  },
  {
   "cell_type": "markdown",
   "id": "ecdcb20f-fd44-472c-86c1-41a5c4871190",
   "metadata": {},
   "source": [
    "### Setup model, loss and metric"
   ]
  },
  {
   "cell_type": "code",
   "execution_count": 5,
   "id": "ccc1ab6c-f4c9-4530-82ab-6e757216808a",
   "metadata": {},
   "outputs": [],
   "source": [
    "if config.model.lower() == 'unet':\n",
    "    net = UNet(\n",
    "        spatial_dims=3,\n",
    "        in_channels=1,\n",
    "        out_channels=2,\n",
    "        channels=config.n_channels,\n",
    "        strides=(2,) * (len(config.n_channels) - 1),\n",
    "        num_res_units=config.num_res_units,\n",
    "        norm=Norm.BATCH,\n",
    "    )\n",
    "elif config.model.lower() == 'csnet':\n",
    "    net = CSNet(\n",
    "        spatial_dims=3,\n",
    "        in_channels=1,\n",
    "        out_channels=2,\n",
    "        channels=config.model_channels,\n",
    "        strides=(2,) * (len(config.n_channels) - 1),\n",
    "        num_res_units=config.num_res_units,\n",
    "        norm=Norm.BATCH,\n",
    "    )\n",
    "elif config.model.lower() == 'csnet_orig':\n",
    "    net = CSNetOrig(2, 1)\n",
    "else:\n",
    "    raise NotImplementedError(\n",
    "        rf'{config.model} is an invalid model; must be one of [\"unet\", \"csnet\", \"csnet_orig\"]')\n",
    "\n",
    "loss_function = DiceLoss(to_onehot_y=True, softmax=True)\n",
    "dice_metric = DiceMetric(include_background=False, reduction=\"mean\")"
   ]
  },
  {
   "cell_type": "markdown",
   "id": "a4135342-1d01-4606-ab14-f73b0a3e0e17",
   "metadata": {},
   "source": [
    "### Setup data loaders"
   ]
  },
  {
   "cell_type": "code",
   "execution_count": 6,
   "id": "5fb7e30b-8f6c-4eac-9b3a-f0fcd366e9ff",
   "metadata": {},
   "outputs": [
    {
     "name": "stderr",
     "output_type": "stream",
     "text": [
      "Loading dataset: 100%|██████████████████████████████████████████████████████████████████████████████████████████████████████████████████████████████████████████████████| 400/400 [00:00<00:00, 750322.72it/s]\n",
      "Loading dataset: 100%|██████████████████████████████████████████████████████████████████████████████████████████████████████████████████████████████████████████████████| 150/150 [00:00<00:00, 623533.80it/s]\n"
     ]
    }
   ],
   "source": [
    "# Train and validation transforms\n",
    "train_tr, val_tr = get_default_train_transforms(roi_size=config.roi_size)\n",
    "\n",
    "# Training and validation file lists\n",
    "train_files = get_data_dict(os.path.join(config.data_dir, config.train_dirname, config.img_dirname),\n",
    "                            os.path.join(config.data_dir, config.train_dirname, config.gt_dirname))\n",
    "val_files = get_data_dict(os.path.join(config.data_dir, config.val_dirname, config.img_dirname),\n",
    "                          os.path.join(config.data_dir, config.val_dirname, config.gt_dirname))\n",
    "\n",
    "# Dataset and dataloader for training\n",
    "tr_ds = CacheDataset(data=train_files, transform=train_tr, cache_rate=1, num_workers=2 * config.batch_size)\n",
    "train_dl = DataLoader(tr_ds, batch_size=config.batch_size, shuffle=True, num_workers=2 * config.batch_size)\n",
    "\n",
    "# Dataset and dataloader for validation\n",
    "val_ds = CacheDataset(data=val_files, transform=val_tr, cache_rate=1.0, num_workers=2 * config.batch_size)\n",
    "val_dl = DataLoader(val_ds, batch_size=config.batch_size, num_workers=2 * config.batch_size)"
   ]
  },
  {
   "cell_type": "markdown",
   "id": "e0904022-aedf-4647-900f-d215fb58453c",
   "metadata": {},
   "source": [
    "### Train"
   ]
  },
  {
   "cell_type": "code",
   "execution_count": null,
   "id": "d406d062-1888-42b5-8b7c-aefe84bb2e6c",
   "metadata": {},
   "outputs": [
    {
     "name": "stdout",
     "output_type": "stream",
     "text": [
      "epoch 1 training loss: 0.5894\n",
      "epoch 1 validation loss: 0.5674; Dice Metric: 0.0023\n",
      "Saved new best model to: model_test/dry-bush-38/best_model.pth\n"
     ]
    }
   ],
   "source": [
    "train(train_dl, val_dl, net, loss_function, dice_metric, config, log_tensorboard=True)"
   ]
  },
  {
   "cell_type": "code",
   "execution_count": null,
   "id": "012ced1b-e31a-4ef7-a004-7a2e07c10fdf",
   "metadata": {},
   "outputs": [],
   "source": [
    "wandb.finish()"
   ]
  },
  {
   "cell_type": "code",
   "execution_count": null,
   "id": "be4c6c0c-b9ce-462f-b559-705527e74275",
   "metadata": {},
   "outputs": [],
   "source": []
  }
 ],
 "metadata": {
  "kernelspec": {
   "display_name": "Python [conda env:am_pytorch]",
   "language": "python",
   "name": "conda-env-am_pytorch-py"
  },
  "language_info": {
   "codemirror_mode": {
    "name": "ipython",
    "version": 3
   },
   "file_extension": ".py",
   "mimetype": "text/x-python",
   "name": "python",
   "nbconvert_exporter": "python",
   "pygments_lexer": "ipython3",
   "version": "3.9.7"
  }
 },
 "nbformat": 4,
 "nbformat_minor": 5
}
