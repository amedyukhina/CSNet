{
 "cells": [
  {
   "cell_type": "code",
   "execution_count": 1,
   "id": "dda9e3c8-533b-48cc-a774-e5bcd64823ab",
   "metadata": {},
   "outputs": [],
   "source": [
    "import os\n",
    "from cs_sim.batch.batch_corrupt import batch_corrupt_image\n",
    "from cs_sim.batch.batch_synth import batch_generate_img_with_lines\n",
    "\n",
    "from torch import optim\n",
    "from torch.utils.data import DataLoader\n",
    "\n",
    "from csnet.dataset import CS_Dataset\n",
    "from csnet.losses import WeightedCrossEntropyLoss, DiceLoss\n",
    "from csnet.model import CSNet3D"
   ]
  },
  {
   "cell_type": "code",
   "execution_count": 2,
   "id": "c7699da4-97a8-447a-b9da-4b16e300cb48",
   "metadata": {},
   "outputs": [],
   "source": [
    "dir_gt = os.path.join('data/gt')\n",
    "dir_img = os.path.join('data/img')"
   ]
  },
  {
   "cell_type": "code",
   "execution_count": 3,
   "id": "e0f50c79-b02e-472d-97c2-76dcd0bb13f3",
   "metadata": {},
   "outputs": [
    {
     "name": "stderr",
     "output_type": "stream",
     "text": [
      "/research/sharedresources/cbi/common/Anna/anaconda3/envs/quamd/lib/python3.9/site-packages/cs_sim/batch/batch_synth.py:48: UserWarning: data/gt/line_img_00000.tif is a low contrast image\n",
      "  io.imsave(fn_out, img.astype(__get_type(img)))\n",
      "/research/sharedresources/cbi/common/Anna/anaconda3/envs/quamd/lib/python3.9/site-packages/cs_sim/batch/batch_synth.py:48: UserWarning: data/gt/line_img_00001.tif is a low contrast image\n",
      "  io.imsave(fn_out, img.astype(__get_type(img)))\n",
      "/research/sharedresources/cbi/common/Anna/anaconda3/envs/quamd/lib/python3.9/site-packages/cs_sim/batch/batch_synth.py:48: UserWarning: data/gt/line_img_00002.tif is a low contrast image\n",
      "  io.imsave(fn_out, img.astype(__get_type(img)))\n",
      "/research/sharedresources/cbi/common/Anna/anaconda3/envs/quamd/lib/python3.9/site-packages/cs_sim/batch/batch_synth.py:48: UserWarning: data/gt/line_img_00003.tif is a low contrast image\n",
      "  io.imsave(fn_out, img.astype(__get_type(img)))\n",
      "/research/sharedresources/cbi/common/Anna/anaconda3/envs/quamd/lib/python3.9/site-packages/cs_sim/batch/batch_synth.py:48: UserWarning: data/gt/line_img_00004.tif is a low contrast image\n",
      "  io.imsave(fn_out, img.astype(__get_type(img)))\n",
      "/research/sharedresources/cbi/common/Anna/anaconda3/envs/quamd/lib/python3.9/site-packages/cs_sim/batch/batch_synth.py:48: UserWarning: data/gt/line_img_00005.tif is a low contrast image\n",
      "  io.imsave(fn_out, img.astype(__get_type(img)))\n",
      "/research/sharedresources/cbi/common/Anna/anaconda3/envs/quamd/lib/python3.9/site-packages/cs_sim/batch/batch_synth.py:48: UserWarning: data/gt/line_img_00006.tif is a low contrast image\n",
      "  io.imsave(fn_out, img.astype(__get_type(img)))\n",
      "/research/sharedresources/cbi/common/Anna/anaconda3/envs/quamd/lib/python3.9/site-packages/cs_sim/batch/batch_synth.py:48: UserWarning: data/gt/line_img_00007.tif is a low contrast image\n",
      "  io.imsave(fn_out, img.astype(__get_type(img)))\n",
      "/research/sharedresources/cbi/common/Anna/anaconda3/envs/quamd/lib/python3.9/site-packages/cs_sim/batch/batch_synth.py:48: UserWarning: data/gt/line_img_00008.tif is a low contrast image\n",
      "  io.imsave(fn_out, img.astype(__get_type(img)))\n",
      "/research/sharedresources/cbi/common/Anna/anaconda3/envs/quamd/lib/python3.9/site-packages/cs_sim/batch/batch_synth.py:48: UserWarning: data/gt/line_img_00009.tif is a low contrast image\n",
      "  io.imsave(fn_out, img.astype(__get_type(img)))\n"
     ]
    }
   ],
   "source": [
    "os.makedirs(dir_gt, exist_ok=True)\n",
    "os.makedirs(dir_img, exist_ok=True)\n",
    "\n",
    "batch_generate_img_with_lines(n_img=10, n_jobs=1, dir_out=dir_gt,\n",
    "                              imgshape=(16, 64, 64), n_lines=10, maxval=255)\n",
    "batch_corrupt_image(dir_gt, dir_img, n_jobs=1,\n",
    "                    corruption_steps=[\n",
    "                        ('poisson_noise', {'snr': 2}),\n",
    "                        ('convolve', {'sigma': 2}),\n",
    "                        ('gaussian_noise', {'snr': 50})\n",
    "                    ])"
   ]
  },
  {
   "cell_type": "code",
   "execution_count": 4,
   "id": "32ab4e0c-3cff-4277-b1aa-091c9e6d620a",
   "metadata": {},
   "outputs": [
    {
     "name": "stderr",
     "output_type": "stream",
     "text": [
      "/research/sharedresources/cbi/common/Anna/codes/CSNet/csnet/model.py:29: UserWarning: nn.init.kaiming_normal is now deprecated in favor of nn.init.kaiming_normal_.\n",
      "  nn.init.kaiming_normal(m.weight)\n"
     ]
    }
   ],
   "source": [
    "ds = CS_Dataset(dir_img, dir_gt)\n",
    "dl = DataLoader(ds, batch_size=2, num_workers=2, shuffle=False)\n",
    "net = CSNet3D(classes=2, channels=1).cuda()\n",
    "optimizer = optim.Adam(net.parameters(), lr=0.0001, weight_decay=0.0005)\n",
    "\n",
    "wce_loss = WeightedCrossEntropyLoss().cuda()\n",
    "dice_loss = DiceLoss().cuda()"
   ]
  },
  {
   "cell_type": "code",
   "execution_count": 5,
   "id": "f09fef9f-08e3-46f5-9f9b-2f035d0d4eae",
   "metadata": {},
   "outputs": [
    {
     "name": "stdout",
     "output_type": "stream",
     "text": [
      "0\n"
     ]
    },
    {
     "name": "stderr",
     "output_type": "stream",
     "text": [
      "/research/sharedresources/cbi/common/Anna/anaconda3/envs/quamd/lib/python3.9/site-packages/torch/nn/functional.py:1806: UserWarning: nn.functional.sigmoid is deprecated. Use torch.sigmoid instead.\n",
      "  warnings.warn(\"nn.functional.sigmoid is deprecated. Use torch.sigmoid instead.\")\n",
      "/research/sharedresources/cbi/common/Anna/codes/CSNet/csnet/losses.py:134: UserWarning: Implicit dimension choice for softmax has been deprecated. Change the call to include dim=X as an argument.\n",
      "  inp = F.softmax(inp)\n"
     ]
    },
    {
     "name": "stdout",
     "output_type": "stream",
     "text": [
      "1\n",
      "2\n",
      "3\n",
      "4\n",
      "5\n",
      "6\n",
      "7\n",
      "8\n",
      "9\n"
     ]
    }
   ],
   "source": [
    "for epoch in range(10):\n",
    "    print(epoch)\n",
    "    net.train()\n",
    "    for idx, batch in enumerate(dl):\n",
    "        image = batch[0].cuda()\n",
    "        label = batch[1].cuda()\n",
    "        optimizer.zero_grad()\n",
    "        pred = net(image)\n",
    "        loss = (0.6 * wce_loss(pred, label.squeeze(1)) + 0.4 * dice_loss(pred, label))\n",
    "        loss.backward()\n",
    "        optimizer.step()"
   ]
  },
  {
   "cell_type": "code",
   "execution_count": null,
   "id": "23c2b864-c19d-47a3-88a9-d39646bae522",
   "metadata": {},
   "outputs": [],
   "source": []
  }
 ],
 "metadata": {
  "kernelspec": {
   "display_name": "Python [conda env:quamd]",
   "language": "python",
   "name": "conda-env-quamd-py"
  },
  "language_info": {
   "codemirror_mode": {
    "name": "ipython",
    "version": 3
   },
   "file_extension": ".py",
   "mimetype": "text/x-python",
   "name": "python",
   "nbconvert_exporter": "python",
   "pygments_lexer": "ipython3",
   "version": "3.9.0"
  }
 },
 "nbformat": 4,
 "nbformat_minor": 5
}
