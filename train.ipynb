{
 "cells": [
  {
   "cell_type": "code",
   "execution_count": null,
   "id": "68e6580f-b8bf-4e44-a0ac-1d553d9f6f98",
   "metadata": {},
   "outputs": [],
   "source": [
    "import argparse\n",
    "import os\n",
    "import json\n",
    "\n",
    "import wandb\n",
    "\n",
    "from monai.losses import DiceLoss\n",
    "from monai.metrics import DiceMetric\n",
    "from monai.networks.layers import Norm\n",
    "from monai.networks.nets import UNet\n",
    "from monai.data import CacheDataset, DataLoader\n",
    "\n",
    "from csnet.utils.train import train\n",
    "from csnet.utils import get_data_dict, get_model_name\n",
    "from csnet.transforms.default import get_default_train_transforms\n",
    "from csnet.models.csnet import CSNet\n",
    "from csnet.models.csnet_orig import CSNetOrig"
   ]
  },
  {
   "cell_type": "markdown",
   "id": "87e8dc7e-4478-44fb-a80d-6873ab65ead5",
   "metadata": {},
   "source": [
    "### Specify parametersCSNet"
   ]
  },
  {
   "cell_type": "code",
   "execution_count": null,
   "id": "a2e2c24d-e712-4329-977e-9c54821d75fd",
   "metadata": {},
   "outputs": [],
   "source": [
    "data_dir = 'data/semantic_3D'\n",
    "train_dir = 'train'\n",
    "val_dir = 'val'\n",
    "model_path = 'model_test'\n",
    "\n",
    "wandb_project = 'CSNet Test'\n",
    "\n",
    "log_progress = True\n",
    "\n",
    "model = 'unet' # one of [\"unet\", \"csnet\", \"csnet_orig\"]\n",
    "\n",
    "model_channels = (16, 32, 64, 128)\n",
    "num_residual_units = 1"
   ]
  },
  {
   "cell_type": "code",
   "execution_count": null,
   "id": "ab7604df-3bab-4a68-a0d8-bf9ae4cbf0a9",
   "metadata": {},
   "outputs": [],
   "source": [
    "config = dict(\n",
    "        epochs=5,\n",
    "        batch_size=2,\n",
    "        lr=0.0001,\n",
    "        weight_decay=0.0005,\n",
    "        factor=0.1,\n",
    "        patience=2,\n",
    "        roi_size=(32, 64, 64),\n",
    "        model_path=model_path,\n",
    "        metric_name='Dice Metric',\n",
    "        model=model,\n",
    "        model_channels=model_channels,\n",
    "        num_residual_units=num_residual_units\n",
    "    )\n",
    "config"
   ]
  },
  {
   "cell_type": "markdown",
   "id": "fc14e090-0d9c-4147-bc66-e952cc65ffd9",
   "metadata": {},
   "source": [
    "### Initialize wandb project"
   ]
  },
  {
   "cell_type": "code",
   "execution_count": null,
   "id": "d5efc04b-14cc-4eef-93fd-e3a10b7b5f4a",
   "metadata": {},
   "outputs": [],
   "source": [
    "if log_progress:\n",
    "    with open('/home/amedyukh/.wandb_api_key') as f:\n",
    "        key = f.read()\n",
    "    os.environ['WANDB_API_KEY'] = key\n",
    "else:\n",
    "    os.environ['WANDB_MODE'] = 'offline'\n",
    "\n",
    "wandb.init(project=wandb_project, config=config)\n",
    "config['model_path'] = os.path.join(config['model_path'], get_model_name(log_progress))\n",
    "\n",
    "os.makedirs(config['model_path'], exist_ok=True)\n",
    "with open(os.path.join(config['model_path'], 'config.json'), 'w') as f:\n",
    "    json.dump(config, f, indent=4)\n",
    "          \n",
    "config = argparse.Namespace(**config)"
   ]
  },
  {
   "cell_type": "markdown",
   "id": "ecdcb20f-fd44-472c-86c1-41a5c4871190",
   "metadata": {},
   "source": [
    "### Setup model, loss and metric"
   ]
  },
  {
   "cell_type": "code",
   "execution_count": null,
   "id": "ccc1ab6c-f4c9-4530-82ab-6e757216808a",
   "metadata": {},
   "outputs": [],
   "source": [
    "if model.lower() == 'unet':\n",
    "    net = UNet(\n",
    "        spatial_dims=3,\n",
    "        in_channels=1,\n",
    "        out_channels=2,\n",
    "        channels=model_channels,\n",
    "        strides=(2,)*(len(model_channels) - 1),\n",
    "        num_res_units=num_residual_units,\n",
    "        norm=Norm.BATCH,\n",
    "    )\n",
    "elif model.lower() == 'csnet':\n",
    "    net = CSNet(\n",
    "        spatial_dims=3,\n",
    "        in_channels=1,\n",
    "        out_channels=2,\n",
    "        channels=model_channels,\n",
    "        strides=(2,)*(len(model_channels) - 1),\n",
    "        num_res_units=num_residual_units,\n",
    "        norm=Norm.BATCH,\n",
    "    )\n",
    "elif model.lower() == 'csnet_orig':\n",
    "    net = CSNetOrig(2, 1)\n",
    "else:\n",
    "    raise NotImplementedError(rf'{model} is an invalid model; must be one of [\"unet\", \"csnet\", \"csnet_orig\"]')\n",
    "\n",
    "\n",
    "loss_function = DiceLoss(to_onehot_y=True, softmax=True)\n",
    "dice_metric = DiceMetric(include_background=False, reduction=\"mean\")"
   ]
  },
  {
   "cell_type": "markdown",
   "id": "a4135342-1d01-4606-ab14-f73b0a3e0e17",
   "metadata": {},
   "source": [
    "### Setup data loaders"
   ]
  },
  {
   "cell_type": "code",
   "execution_count": null,
   "id": "5fb7e30b-8f6c-4eac-9b3a-f0fcd366e9ff",
   "metadata": {},
   "outputs": [],
   "source": [
    "train_tr, val_tr = get_default_train_transforms(roi_size=config.roi_size)"
   ]
  },
  {
   "cell_type": "code",
   "execution_count": null,
   "id": "4fcd40df-5bd3-44d8-b82b-6ef05635910b",
   "metadata": {},
   "outputs": [],
   "source": [
    "train_files = get_data_dict(os.path.join(data_dir, train_dir, 'img'), \n",
    "                            os.path.join(data_dir, train_dir, 'gt'))\n",
    "val_files = get_data_dict(os.path.join(data_dir, val_dir, 'img'), \n",
    "                          os.path.join(data_dir, val_dir, 'gt'))"
   ]
  },
  {
   "cell_type": "code",
   "execution_count": null,
   "id": "6f90fcf4-ac6d-40f5-aab9-f5d67b5c4236",
   "metadata": {},
   "outputs": [],
   "source": [
    "tr_ds = CacheDataset(data=train_files, transform=train_tr, cache_rate=1, num_workers=2*config.batch_size)\n",
    "train_dl = DataLoader(tr_ds, batch_size=config.batch_size, shuffle=True, num_workers=2*config.batch_size)\n",
    "\n",
    "val_ds = CacheDataset(data=val_files, transform=val_tr, cache_rate=1.0, num_workers=2*config.batch_size)\n",
    "val_dl = DataLoader(val_ds, batch_size=config.batch_size, num_workers=2*config.batch_size)"
   ]
  },
  {
   "cell_type": "markdown",
   "id": "e0904022-aedf-4647-900f-d215fb58453c",
   "metadata": {},
   "source": [
    "### Train"
   ]
  },
  {
   "cell_type": "code",
   "execution_count": null,
   "id": "d406d062-1888-42b5-8b7c-aefe84bb2e6c",
   "metadata": {},
   "outputs": [],
   "source": [
    "train(train_dl, val_dl, net, loss_function, dice_metric, config, log_tensorboard=True)"
   ]
  },
  {
   "cell_type": "code",
   "execution_count": null,
   "id": "012ced1b-e31a-4ef7-a004-7a2e07c10fdf",
   "metadata": {},
   "outputs": [],
   "source": [
    "wandb.finish()"
   ]
  },
  {
   "cell_type": "code",
   "execution_count": null,
   "id": "761af47d-a39d-487e-9a8e-eca74dcd0ef4",
   "metadata": {},
   "outputs": [],
   "source": []
  }
 ],
 "metadata": {
  "kernelspec": {
   "display_name": "Python [conda env:am_pytorch]",
   "language": "python",
   "name": "conda-env-am_pytorch-py"
  },
  "language_info": {
   "codemirror_mode": {
    "name": "ipython",
    "version": 3
   },
   "file_extension": ".py",
   "mimetype": "text/x-python",
   "name": "python",
   "nbconvert_exporter": "python",
   "pygments_lexer": "ipython3",
   "version": "3.9.7"
  }
 },
 "nbformat": 4,
 "nbformat_minor": 5
}
