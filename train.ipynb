{
 "cells": [
  {
   "cell_type": "code",
   "execution_count": null,
   "id": "dda9e3c8-533b-48cc-a774-e5bcd64823ab",
   "metadata": {},
   "outputs": [],
   "source": [
    "import os\n",
    "import numpy as np\n",
    "import datetime\n",
    "import argparse\n",
    "\n",
    "import torch\n",
    "from torch.utils.data import DataLoader\n",
    "\n",
    "from csnet.dataset import CS_Dataset\n",
    "from csnet.losses import WeightedCrossEntropyLoss, DiceLoss\n",
    "from csnet.model import CSNet3D\n",
    "from csnet.train import model_eval\n",
    "from csnet.utils import save_model\n",
    "\n",
    "import wandb"
   ]
  },
  {
   "cell_type": "code",
   "execution_count": null,
   "id": "c7699da4-97a8-447a-b9da-4b16e300cb48",
   "metadata": {},
   "outputs": [],
   "source": [
    "dir_train_gt = 'data/train/gt'\n",
    "dir_train_img = 'data/train/img'\n",
    "dir_test_gt = 'data/test/gt'\n",
    "dir_test_img = 'data/test/img'\n",
    "\n",
    "epochs = 10\n",
    "batch_size = 2\n",
    "lr = 0.0001\n",
    "weight_decay = 0.0005\n",
    "wce_loss_weight = 0.6\n",
    "dice_loss_weight = 0.4\n",
    "\n",
    "snapshot = 2\n",
    "test_step = 2\n",
    "model_path = 'model'\n",
    "\n",
    "step_size=1\n",
    "gamma=0.1\n",
    "\n",
    "log_progress = True\n",
    "wandb_project = 'CSNet Test'"
   ]
  },
  {
   "cell_type": "code",
   "execution_count": null,
   "id": "4f70906d-9505-433b-9759-2e07240e178e",
   "metadata": {},
   "outputs": [],
   "source": [
    "config = dict(\n",
    "    epochs=epochs,\n",
    "    batch_size=batch_size,\n",
    "    lr=lr,\n",
    "    weight_decay=weight_decay,\n",
    "    wce_loss_weight=wce_loss_weight,\n",
    "    dice_loss_weight=dice_loss_weight,\n",
    "    step_size=step_size,\n",
    "    gamma=gamma\n",
    ")\n",
    "    \n",
    "config"
   ]
  },
  {
   "cell_type": "code",
   "execution_count": null,
   "id": "2e3fdfd3-e18f-4188-88c6-85d76cdac5a9",
   "metadata": {},
   "outputs": [],
   "source": [
    "if log_progress:\n",
    "    with open('/home/amedyukh/.wandb_api_key') as f:\n",
    "        key = f.read()\n",
    "    os.environ['WANDB_API_KEY'] = key\n",
    "else:\n",
    "    os.environ['WANDB_MODE'] = 'offline'\n",
    "\n",
    "wandb.init(project=wandb_project, config=config)\n",
    "config = argparse.Namespace(**config)\n",
    "\n",
    "if log_progress:\n",
    "    model_name = wandb.run.name\n",
    "else:\n",
    "    model_name = datetime.datetime.now().strftime(\"%Y-%m-%d-%H-%M-%S\")\n",
    "os.makedirs(os.path.join(model_path, model_name))"
   ]
  },
  {
   "cell_type": "code",
   "execution_count": null,
   "id": "32ab4e0c-3cff-4277-b1aa-091c9e6d620a",
   "metadata": {},
   "outputs": [],
   "source": [
    "ds = CS_Dataset(dir_train_img, dir_train_gt)\n",
    "dl = DataLoader(ds, batch_size=config.batch_size, num_workers=config.batch_size, shuffle=True)\n",
    "\n",
    "ds_test = CS_Dataset(dir_test_img, dir_test_gt)\n",
    "dl_test = DataLoader(ds_test, batch_size=config.batch_size, num_workers=config.batch_size, shuffle=False)\n",
    "\n",
    "net = CSNet3D(classes=2, channels=1).cuda()\n",
    "optimizer = torch.optim.Adam(net.parameters(), lr=config.lr, weight_decay=config.weight_decay)\n",
    "lr_scheduler = torch.optim.lr_scheduler.StepLR(optimizer, \n",
    "                                               step_size=config.step_size, gamma=config.gamma)\n",
    "\n",
    "wce_loss = WeightedCrossEntropyLoss().cuda()\n",
    "dice_loss = DiceLoss().cuda()"
   ]
  },
  {
   "cell_type": "code",
   "execution_count": null,
   "id": "f09fef9f-08e3-46f5-9f9b-2f035d0d4eae",
   "metadata": {},
   "outputs": [],
   "source": [
    "for epoch in range(config.epochs):\n",
    "    net.train()\n",
    "    tr_loss = []\n",
    "    for idx, batch in enumerate(dl):\n",
    "        image = batch[0].cuda()\n",
    "        label = batch[1].cuda()\n",
    "        optimizer.zero_grad()\n",
    "        pred = net(image)\n",
    "        loss = (config.wce_loss_weight * wce_loss(pred, label.squeeze(1)) \n",
    "                + config.dice_loss_weight * dice_loss(pred, label))\n",
    "        loss.backward()\n",
    "        optimizer.step()\n",
    "        tr_loss.append(loss.item())\n",
    "    lr_scheduler.step()\n",
    "    \n",
    "    print(rf\"Epoch {epoch + 1}, training loss: {np.mean(tr_loss)}\")\n",
    "    wandb.log({'training loss': np.mean(tr_loss),\n",
    "               'epoch': epoch + 1,\n",
    "               'lr': optimizer.param_groups[0]['lr']})\n",
    "    \n",
    "    \n",
    "    if (epoch + 1) % test_step == 0:\n",
    "        val_loss, recall, precision, iou = model_eval(net, dl_test, \n",
    "                                                      wce_loss_weight, dice_loss_weight, \n",
    "                                                      wce_loss, dice_loss)\n",
    "        print(rf\"Epoch {epoch + 1}, val loss: {val_loss};\"\\\n",
    "              rf\" recall: {recall}; precision: {precision}; IOU: {iou}\")\n",
    "        wandb.log({'validation loss': val_loss,\n",
    "                   'Recall': recall,\n",
    "                   'Precision': precision,\n",
    "                   'IOU': iou})\n",
    "        \n",
    "    if (epoch + 1) % snapshot == 0:\n",
    "        save_model(net, epoch + 1, model_path, model_name)\n",
    "        "
   ]
  },
  {
   "cell_type": "code",
   "execution_count": null,
   "id": "d5ae02bf-1ae8-40fd-95d4-e0789598d441",
   "metadata": {},
   "outputs": [],
   "source": [
    "wandb.finish()"
   ]
  }
 ],
 "metadata": {
  "kernelspec": {
   "display_name": "Python [conda env:quamd]",
   "language": "python",
   "name": "conda-env-quamd-py"
  },
  "language_info": {
   "codemirror_mode": {
    "name": "ipython",
    "version": 3
   },
   "file_extension": ".py",
   "mimetype": "text/x-python",
   "name": "python",
   "nbconvert_exporter": "python",
   "pygments_lexer": "ipython3",
   "version": "3.9.0"
  }
 },
 "nbformat": 4,
 "nbformat_minor": 5
}
