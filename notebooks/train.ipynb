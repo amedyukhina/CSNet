{
 "cells": [
  {
   "cell_type": "code",
   "execution_count": 1,
   "id": "68e6580f-b8bf-4e44-a0ac-1d553d9f6f98",
   "metadata": {},
   "outputs": [
    {
     "name": "stderr",
     "output_type": "stream",
     "text": [
      "/research/sharedresources/cbi/common/Anna/anaconda3/envs/csnet/lib/python3.9/site-packages/tqdm/auto.py:22: TqdmWarning: IProgress not found. Please update jupyter and ipywidgets. See https://ipywidgets.readthedocs.io/en/stable/user_install.html\n",
      "  from .autonotebook import tqdm as notebook_tqdm\n"
     ]
    }
   ],
   "source": [
    "import argparse\n",
    "import json\n",
    "import os\n",
    "\n",
    "import wandb\n",
    "from monai.data import CacheDataset, DataLoader\n",
    "from monai.losses import DiceLoss\n",
    "from monai.metrics import DiceMetric\n",
    "\n",
    "from csnet.transforms.default import get_default_train_transforms\n",
    "from csnet.utils import get_data_dict, get_model_name\n",
    "from csnet.utils.model import get_model\n",
    "from csnet.utils.train import train"
   ]
  },
  {
   "cell_type": "markdown",
   "id": "87e8dc7e-4478-44fb-a80d-6873ab65ead5",
   "metadata": {},
   "source": [
    "### Specify parameters"
   ]
  },
  {
   "cell_type": "code",
   "execution_count": 2,
   "id": "a2e2c24d-e712-4329-977e-9c54821d75fd",
   "metadata": {},
   "outputs": [],
   "source": [
    "data_dir = 'data/semantic_3D'\n",
    "train_dir = 'train'\n",
    "val_dir = 'val'\n",
    "model_path = 'model'\n",
    "\n",
    "model = 'csnet' # one of [\"unet\", \"csnet\", \"csnet_orig\"]\n",
    "\n",
    "model_channels = (16, 32, 64, 128)\n",
    "num_residual_units = 1\n",
    "\n",
    "\n",
    "log_progress = False\n",
    "wandb_project = 'CSNet Test'\n",
    "wandb_key_filename = None"
   ]
  },
  {
   "cell_type": "code",
   "execution_count": 3,
   "id": "ab7604df-3bab-4a68-a0d8-bf9ae4cbf0a9",
   "metadata": {},
   "outputs": [
    {
     "data": {
      "text/plain": [
       "{'epochs': 30,\n",
       " 'batch_size': 2,\n",
       " 'lr': 0.0001,\n",
       " 'weight_decay': 0.0005,\n",
       " 'factor': 0.1,\n",
       " 'patience': 2,\n",
       " 'roi_size': (32, 64, 64),\n",
       " 'model_path': 'model',\n",
       " 'metric_name': 'Dice Metric',\n",
       " 'model': 'csnet',\n",
       " 'n_channels': (16, 32, 64, 128),\n",
       " 'num_res_units': 1,\n",
       " 'log_progress': False,\n",
       " 'wandb_project': 'CSNet Test',\n",
       " 'data_dir': 'data/semantic_3D',\n",
       " 'train_dirname': 'train',\n",
       " 'val_dirname': 'val',\n",
       " 'img_dirname': 'img',\n",
       " 'gt_dirname': 'gt'}"
      ]
     },
     "execution_count": 3,
     "metadata": {},
     "output_type": "execute_result"
    }
   ],
   "source": [
    "config = dict(\n",
    "        epochs=30,\n",
    "        batch_size=2,\n",
    "        lr=0.0001,\n",
    "        weight_decay=0.0005,\n",
    "        factor=0.1,\n",
    "        patience=2,\n",
    "        roi_size=(32, 64, 64),\n",
    "        model_path=model_path,\n",
    "        metric_name='Dice Metric',\n",
    "        model=model,\n",
    "        n_channels=model_channels,\n",
    "        num_res_units=num_residual_units,\n",
    "        log_progress=log_progress,\n",
    "        wandb_project=wandb_project,\n",
    "        data_dir=data_dir,\n",
    "        train_dirname=train_dir,\n",
    "        val_dirname=val_dir,\n",
    "        img_dirname='img',\n",
    "        gt_dirname='gt'\n",
    "    )\n",
    "config"
   ]
  },
  {
   "cell_type": "markdown",
   "id": "fc14e090-0d9c-4147-bc66-e952cc65ffd9",
   "metadata": {},
   "source": [
    "### Initialize wandb project"
   ]
  },
  {
   "cell_type": "code",
   "execution_count": 4,
   "id": "d5efc04b-14cc-4eef-93fd-e3a10b7b5f4a",
   "metadata": {},
   "outputs": [
    {
     "name": "stdout",
     "output_type": "stream",
     "text": [
      "2023-02-15 13:47:29,781 - Failed to detect the name of this notebook, you can set it manually with the WANDB_NOTEBOOK_NAME environment variable to enable code saving.\n"
     ]
    },
    {
     "data": {
      "text/html": [
       "Tracking run with wandb version 0.13.10"
      ],
      "text/plain": [
       "<IPython.core.display.HTML object>"
      ]
     },
     "metadata": {},
     "output_type": "display_data"
    },
    {
     "data": {
      "text/html": [
       "W&B syncing is set to <code>`offline`<code> in this directory.  <br/>Run <code>`wandb online`<code> or set <code>WANDB_MODE=online<code> to enable cloud syncing."
      ],
      "text/plain": [
       "<IPython.core.display.HTML object>"
      ]
     },
     "metadata": {},
     "output_type": "display_data"
    }
   ],
   "source": [
    "config = argparse.Namespace(**config)\n",
    "if config.log_progress and wandb_key_filename is not None:\n",
    "    with open(wandb_key_filename) as f:\n",
    "        key = f.read()\n",
    "    os.environ['WANDB_API_KEY'] = key\n",
    "else:\n",
    "    os.environ['WANDB_MODE'] = 'offline'\n",
    "\n",
    "wandb.init(project=config.wandb_project, config=vars(config))\n",
    "\n",
    "# Update model path\n",
    "config.model_path = os.path.join(config.model_path, get_model_name(config.log_progress))\n",
    "\n",
    "# Save training parameters\n",
    "os.makedirs(config.model_path, exist_ok=True)\n",
    "with open(os.path.join(config.model_path, 'config.json'), 'w') as f:\n",
    "    json.dump(vars(config), f, indent=4)\n",
    "          \n"
   ]
  },
  {
   "cell_type": "markdown",
   "id": "ecdcb20f-fd44-472c-86c1-41a5c4871190",
   "metadata": {},
   "source": [
    "### Setup model, loss and metric"
   ]
  },
  {
   "cell_type": "code",
   "execution_count": 5,
   "id": "ccc1ab6c-f4c9-4530-82ab-6e757216808a",
   "metadata": {},
   "outputs": [],
   "source": [
    "net = get_model(config)\n",
    "loss_function = DiceLoss(to_onehot_y=True, softmax=True)\n",
    "dice_metric = DiceMetric(include_background=False, reduction=\"mean\")"
   ]
  },
  {
   "cell_type": "markdown",
   "id": "a4135342-1d01-4606-ab14-f73b0a3e0e17",
   "metadata": {},
   "source": [
    "### Setup data loaders"
   ]
  },
  {
   "cell_type": "code",
   "execution_count": 6,
   "id": "5fb7e30b-8f6c-4eac-9b3a-f0fcd366e9ff",
   "metadata": {},
   "outputs": [
    {
     "name": "stderr",
     "output_type": "stream",
     "text": [
      "Loading dataset: 100%|███████████████████████████████████████████████████████████████████████████████████████| 200/200 [00:00<00:00, 221335.30it/s]\n",
      "Loading dataset: 100%|█████████████████████████████████████████████████████████████████████████████████████████| 50/50 [00:00<00:00, 186082.70it/s]\n"
     ]
    }
   ],
   "source": [
    "# Train and validation transforms\n",
    "train_tr, val_tr = get_default_train_transforms(roi_size=config.roi_size)\n",
    "\n",
    "# Training and validation file lists\n",
    "train_files = get_data_dict(os.path.join(config.data_dir, config.train_dirname, config.img_dirname),\n",
    "                            os.path.join(config.data_dir, config.train_dirname, config.gt_dirname))\n",
    "val_files = get_data_dict(os.path.join(config.data_dir, config.val_dirname, config.img_dirname),\n",
    "                          os.path.join(config.data_dir, config.val_dirname, config.gt_dirname))\n",
    "\n",
    "# Dataset and dataloader for training\n",
    "tr_ds = CacheDataset(data=train_files, transform=train_tr, cache_rate=1, num_workers=2 * config.batch_size)\n",
    "train_dl = DataLoader(tr_ds, batch_size=config.batch_size, shuffle=True, num_workers=2 * config.batch_size)\n",
    "\n",
    "# Dataset and dataloader for validation\n",
    "val_ds = CacheDataset(data=val_files, transform=val_tr, cache_rate=1.0, num_workers=2 * config.batch_size)\n",
    "val_dl = DataLoader(val_ds, batch_size=config.batch_size, num_workers=2 * config.batch_size)"
   ]
  },
  {
   "cell_type": "markdown",
   "id": "e0904022-aedf-4647-900f-d215fb58453c",
   "metadata": {},
   "source": [
    "### Train"
   ]
  },
  {
   "cell_type": "code",
   "execution_count": 7,
   "id": "d406d062-1888-42b5-8b7c-aefe84bb2e6c",
   "metadata": {},
   "outputs": [
    {
     "name": "stdout",
     "output_type": "stream",
     "text": [
      "epoch 1 training loss: 0.6338\n",
      "epoch 1 validation loss: 0.6181; Dice Metric: 0.0045\n",
      "Saved new best model to: model/2023-02-15-13-47-37/best_model.pth\n",
      "epoch 2 training loss: 0.5984\n",
      "epoch 2 validation loss: 0.5876; Dice Metric: 0.0074\n",
      "Saved new best model to: model/2023-02-15-13-47-37/best_model.pth\n",
      "epoch 3 training loss: 0.5688\n",
      "epoch 3 validation loss: 0.5589; Dice Metric: 0.0640\n",
      "Saved new best model to: model/2023-02-15-13-47-37/best_model.pth\n",
      "epoch 4 training loss: 0.5413\n",
      "epoch 4 validation loss: 0.5359; Dice Metric: 0.1723\n",
      "Saved new best model to: model/2023-02-15-13-47-37/best_model.pth\n",
      "epoch 5 training loss: 0.5228\n",
      "epoch 5 validation loss: 0.5205; Dice Metric: 0.1628\n",
      "epoch 6 training loss: 0.5092\n",
      "epoch 6 validation loss: 0.5074; Dice Metric: 0.1899\n",
      "Saved new best model to: model/2023-02-15-13-47-37/best_model.pth\n",
      "epoch 7 training loss: 0.4961\n",
      "epoch 7 validation loss: 0.4915; Dice Metric: 0.2364\n",
      "Saved new best model to: model/2023-02-15-13-47-37/best_model.pth\n",
      "epoch 8 training loss: 0.4827\n",
      "epoch 8 validation loss: 0.4779; Dice Metric: 0.2820\n",
      "Saved new best model to: model/2023-02-15-13-47-37/best_model.pth\n",
      "epoch 9 training loss: 0.4646\n",
      "epoch 9 validation loss: 0.4579; Dice Metric: 0.2977\n",
      "Saved new best model to: model/2023-02-15-13-47-37/best_model.pth\n",
      "epoch 10 training loss: 0.4407\n",
      "epoch 10 validation loss: 0.4294; Dice Metric: 0.3682\n",
      "Saved new best model to: model/2023-02-15-13-47-37/best_model.pth\n",
      "epoch 11 training loss: 0.4042\n",
      "epoch 11 validation loss: 0.3780; Dice Metric: 0.4664\n",
      "Saved new best model to: model/2023-02-15-13-47-37/best_model.pth\n",
      "epoch 12 training loss: 0.3631\n",
      "epoch 12 validation loss: 0.3373; Dice Metric: 0.4999\n",
      "Saved new best model to: model/2023-02-15-13-47-37/best_model.pth\n",
      "epoch 13 training loss: 0.3299\n",
      "epoch 13 validation loss: 0.2877; Dice Metric: 0.5741\n",
      "Saved new best model to: model/2023-02-15-13-47-37/best_model.pth\n",
      "epoch 14 training loss: 0.3089\n",
      "epoch 14 validation loss: 0.2814; Dice Metric: 0.5690\n",
      "epoch 15 training loss: 0.2939\n",
      "epoch 15 validation loss: 0.2569; Dice Metric: 0.5988\n",
      "Saved new best model to: model/2023-02-15-13-47-37/best_model.pth\n",
      "epoch 16 training loss: 0.2837\n",
      "epoch 16 validation loss: 0.2308; Dice Metric: 0.6165\n",
      "Saved new best model to: model/2023-02-15-13-47-37/best_model.pth\n",
      "epoch 17 training loss: 0.2765\n",
      "epoch 17 validation loss: 0.2407; Dice Metric: 0.5951\n",
      "epoch 18 training loss: 0.2712\n",
      "epoch 18 validation loss: 0.2405; Dice Metric: 0.5984\n",
      "epoch 19 training loss: 0.2664\n",
      "epoch 19 validation loss: 0.2188; Dice Metric: 0.6223\n",
      "Saved new best model to: model/2023-02-15-13-47-37/best_model.pth\n",
      "epoch 20 training loss: 0.2625\n",
      "epoch 20 validation loss: 0.2167; Dice Metric: 0.6136\n",
      "epoch 21 training loss: 0.2594\n",
      "epoch 21 validation loss: 0.2068; Dice Metric: 0.6345\n",
      "Saved new best model to: model/2023-02-15-13-47-37/best_model.pth\n",
      "epoch 22 training loss: 0.2549\n",
      "epoch 22 validation loss: 0.2123; Dice Metric: 0.6236\n",
      "epoch 23 training loss: 0.2514\n",
      "epoch 23 validation loss: 0.1982; Dice Metric: 0.6483\n",
      "Saved new best model to: model/2023-02-15-13-47-37/best_model.pth\n",
      "epoch 24 training loss: 0.2508\n",
      "epoch 24 validation loss: 0.1997; Dice Metric: 0.6455\n",
      "epoch 25 training loss: 0.2499\n",
      "epoch 25 validation loss: 0.1929; Dice Metric: 0.6513\n",
      "Saved new best model to: model/2023-02-15-13-47-37/best_model.pth\n",
      "epoch 26 training loss: 0.2463\n",
      "epoch 26 validation loss: 0.1947; Dice Metric: 0.6480\n",
      "epoch 27 training loss: 0.2455\n",
      "epoch 27 validation loss: 0.1910; Dice Metric: 0.6543\n",
      "Saved new best model to: model/2023-02-15-13-47-37/best_model.pth\n",
      "epoch 28 training loss: 0.2446\n",
      "epoch 28 validation loss: 0.1853; Dice Metric: 0.6656\n",
      "Saved new best model to: model/2023-02-15-13-47-37/best_model.pth\n",
      "epoch 29 training loss: 0.2439\n",
      "epoch 29 validation loss: 0.1884; Dice Metric: 0.6533\n",
      "epoch 30 training loss: 0.2430\n",
      "epoch 30 validation loss: 0.1815; Dice Metric: 0.6644\n"
     ]
    }
   ],
   "source": [
    "train(train_dl, val_dl, net, loss_function, dice_metric, config, log_tensorboard=True)"
   ]
  },
  {
   "cell_type": "code",
   "execution_count": 8,
   "id": "012ced1b-e31a-4ef7-a004-7a2e07c10fdf",
   "metadata": {},
   "outputs": [
    {
     "data": {
      "text/html": [
       "Waiting for W&B process to finish... <strong style=\"color:green\">(success).</strong>"
      ],
      "text/plain": [
       "<IPython.core.display.HTML object>"
      ]
     },
     "metadata": {},
     "output_type": "display_data"
    },
    {
     "data": {
      "text/html": [
       "<style>\n",
       "    table.wandb td:nth-child(1) { padding: 0 10px; text-align: left ; width: auto;} td:nth-child(2) {text-align: left ; width: 100%}\n",
       "    .wandb-row { display: flex; flex-direction: row; flex-wrap: wrap; justify-content: flex-start; width: 100% }\n",
       "    .wandb-col { display: flex; flex-direction: column; flex-basis: 100%; flex: 1; padding: 10px; }\n",
       "    </style>\n",
       "<div class=\"wandb-row\"><div class=\"wandb-col\"><h3>Run history:</h3><br/><table class=\"wandb\"><tr><td>Dice Metric</td><td>▁▁▂▃▃▃▃▄▄▅▆▆▇▇▇▇▇▇█▇██████████</td></tr><tr><td>average training loss</td><td>█▇▇▆▆▆▆▅▅▅▄▃▃▂▂▂▂▂▁▁▁▁▁▁▁▁▁▁▁▁</td></tr><tr><td>epoch</td><td>▁▁▁▂▂▂▂▃▃▃▃▄▄▄▄▅▅▅▅▆▆▆▆▇▇▇▇███</td></tr><tr><td>lr</td><td>▁▁▁▁▁▁▁▁▁▁▁▁▁▁▁▁▁▁▁▁▁▁▁▁▁▁▁▁▁▁</td></tr><tr><td>training loss</td><td>██▇▇▆▆▆▆▆▅▅▅▅▄▄▄▃▂▂▂▂▂▂▂▂▂▂▂▁▁▂▁▁▁▁▁▁▁▁▂</td></tr><tr><td>validation loss</td><td>██▇▇▆▆▆▆▅▅▄▃▃▃▂▂▂▂▂▂▁▁▁▁▁▁▁▁▁▁</td></tr></table><br/></div><div class=\"wandb-col\"><h3>Run summary:</h3><br/><table class=\"wandb\"><tr><td>Dice Metric</td><td>0.66441</td></tr><tr><td>average training loss</td><td>0.24303</td></tr><tr><td>epoch</td><td>30</td></tr><tr><td>lr</td><td>0.0001</td></tr><tr><td>training loss</td><td>0.24068</td></tr><tr><td>validation loss</td><td>0.18155</td></tr></table><br/></div></div>"
      ],
      "text/plain": [
       "<IPython.core.display.HTML object>"
      ]
     },
     "metadata": {},
     "output_type": "display_data"
    },
    {
     "data": {
      "text/html": [
       "You can sync this run to the cloud by running:<br/><code>wandb sync /research/sharedresources/cbi/common/Anna/codes/CSNet/notebooks/wandb/offline-run-20230215_134731-exnte50j<code>"
      ],
      "text/plain": [
       "<IPython.core.display.HTML object>"
      ]
     },
     "metadata": {},
     "output_type": "display_data"
    },
    {
     "data": {
      "text/html": [
       "Find logs at: <code>./wandb/offline-run-20230215_134731-exnte50j/logs</code>"
      ],
      "text/plain": [
       "<IPython.core.display.HTML object>"
      ]
     },
     "metadata": {},
     "output_type": "display_data"
    }
   ],
   "source": [
    "wandb.finish()"
   ]
  }
 ],
 "metadata": {
  "kernelspec": {
   "display_name": "Python [conda env:csnet]",
   "language": "python",
   "name": "conda-env-csnet-py"
  },
  "language_info": {
   "codemirror_mode": {
    "name": "ipython",
    "version": 3
   },
   "file_extension": ".py",
   "mimetype": "text/x-python",
   "name": "python",
   "nbconvert_exporter": "python",
   "pygments_lexer": "ipython3",
   "version": "3.9.16"
  }
 },
 "nbformat": 4,
 "nbformat_minor": 5
}
