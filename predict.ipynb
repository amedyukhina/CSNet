{
 "cells": [
  {
   "cell_type": "code",
   "execution_count": null,
   "id": "dda9e3c8-533b-48cc-a774-e5bcd64823ab",
   "metadata": {},
   "outputs": [],
   "source": [
    "import os\n",
    "import numpy as np\n",
    "import datetime\n",
    "from tqdm import tqdm\n",
    "from skimage import io\n",
    "\n",
    "import torch\n",
    "from torch.utils.data import DataLoader\n",
    "\n",
    "from csnet.dataset import CS_Dataset\n",
    "from csnet.utils import show_image_grid"
   ]
  },
  {
   "cell_type": "code",
   "execution_count": null,
   "id": "c7699da4-97a8-447a-b9da-4b16e300cb48",
   "metadata": {},
   "outputs": [],
   "source": [
    "input_dir = 'data/test/img'\n",
    "ref_dir = 'data/test/gt'\n",
    "output_dir = 'data/test/predicted'\n",
    "\n",
    "batch_size = 2\n",
    "model_path = 'model/2022-06-16-16-14-14/2022-06-16-16-14-14_8.pkl'"
   ]
  },
  {
   "cell_type": "code",
   "execution_count": null,
   "id": "32ab4e0c-3cff-4277-b1aa-091c9e6d620a",
   "metadata": {},
   "outputs": [],
   "source": [
    "ds = CS_Dataset(input_dir, ref_dir)\n",
    "dl = DataLoader(ds, batch_size=batch_size, num_workers=batch_size, shuffle=False)\n",
    "net = torch.load(model_path).cuda()"
   ]
  },
  {
   "cell_type": "code",
   "execution_count": null,
   "id": "f617cd77-1d95-42fb-880c-a7a20754c6e8",
   "metadata": {},
   "outputs": [],
   "source": [
    "imgs = []\n",
    "lbls = []\n",
    "predictions = []\n",
    "\n",
    "with torch.no_grad():\n",
    "    net.eval()\n",
    "    for idx, batch in enumerate(dl):\n",
    "        image = batch[0].cuda()\n",
    "        label = batch[1].cuda()\n",
    "        pred = net(image)\n",
    "        \n",
    "        imgs.append(image)\n",
    "        lbls.append(label)\n",
    "        predictions.append(torch.argmax(pred, dim=1))\n",
    "imgs = torch.concat(imgs)\n",
    "lbls = torch.concat(lbls)\n",
    "predictions = torch.concat(predictions)"
   ]
  },
  {
   "cell_type": "code",
   "execution_count": null,
   "id": "04f914b5-839f-4255-9ded-eff459b7c0ee",
   "metadata": {},
   "outputs": [],
   "source": [
    "os.makedirs(output_dir, exist_ok=True)\n",
    "for pred, fn in zip(tqdm(predictions), ds.image_fns):\n",
    "    io.imsave(fn.replace(input_dir, output_dir), (pred.cpu().numpy()*255).astype(np.uint8))"
   ]
  },
  {
   "cell_type": "code",
   "execution_count": null,
   "id": "d5ae02bf-1ae8-40fd-95d4-e0789598d441",
   "metadata": {},
   "outputs": [],
   "source": [
    "show_image_grid([imgs, lbls, predictions.unsqueeze(1)])"
   ]
  },
  {
   "cell_type": "code",
   "execution_count": null,
   "id": "567475e2-dacf-4b2e-8aec-d011d77ba9b0",
   "metadata": {},
   "outputs": [],
   "source": []
  }
 ],
 "metadata": {
  "kernelspec": {
   "display_name": "Python [conda env:quamd]",
   "language": "python",
   "name": "conda-env-quamd-py"
  },
  "language_info": {
   "codemirror_mode": {
    "name": "ipython",
    "version": 3
   },
   "file_extension": ".py",
   "mimetype": "text/x-python",
   "name": "python",
   "nbconvert_exporter": "python",
   "pygments_lexer": "ipython3",
   "version": "3.9.0"
  }
 },
 "nbformat": 4,
 "nbformat_minor": 5
}
